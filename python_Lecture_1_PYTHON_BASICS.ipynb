{
 "cells": [
  {
   "cell_type": "markdown",
   "metadata": {},
   "source": [
    "# Python Lecture Notebook"
   ]
  },
  {
   "cell_type": "markdown",
   "metadata": {},
   "source": [
    "# Displaying Output with the print Statement"
   ]
  },
  {
   "cell_type": "code",
   "execution_count": 4,
   "metadata": {},
   "outputs": [
    {
     "name": "stdout",
     "output_type": "stream",
     "text": [
      "Hello world\n",
      "123 Dharma Lane\n",
      "Don't fear! \n",
      "I'm here!\n",
      "Your assignment is to read \"Hamlet\" by tomorrow. \n",
      "I'm reading \"Hamlet\" tonight.\n",
      "I'm reading \"Hamlet\" tonight.\n",
      " One\n",
      "Two\n",
      "Three \n"
     ]
    }
   ],
   "source": [
    "print (\"Hello world\")\n",
    "print (\"123 Dharma Lane\")\n",
    "print (\"Don't fear! \")\n",
    "print (\"I'm here!\")\n",
    "print ('Your assignment is to read \"Hamlet\" by tomorrow. ')\n",
    "print (\"\"\"I'm reading \"Hamlet\" tonight.\"\"\")\n",
    "print ('''I'm reading \"Hamlet\" tonight.''')\n",
    "print (\"\"\" One\n",
    "Two\n",
    "Three \"\"\")"
   ]
  },
  {
   "cell_type": "markdown",
   "metadata": {},
   "source": [
    "1. Write a print statement that displays your name.\n",
    "2. Write a print statement that displays the following text: \n",
    "Python's the best!\n",
    "3. Write a print statement that displays the following text: \n",
    "The cat said \"meow. \""
   ]
  },
  {
   "cell_type": "markdown",
   "metadata": {},
   "source": [
    "# Variables"
   ]
  },
  {
   "cell_type": "markdown",
   "metadata": {},
   "source": [
    "A variable is a name that represents a value stored in the computer's memory.\n",
    "\n",
    "variable = expression"
   ]
  },
  {
   "cell_type": "markdown",
   "metadata": {},
   "source": [
    "# Creating Variables with Assignment Statements"
   ]
  },
  {
   "cell_type": "markdown",
   "metadata": {},
   "source": [
    "You use an assignment statement to create a variable in Python. Here is an example of an assignment statement:"
   ]
  },
  {
   "cell_type": "code",
   "execution_count": 5,
   "metadata": {},
   "outputs": [],
   "source": [
    "age = 25"
   ]
  },
  {
   "cell_type": "code",
   "execution_count": 8,
   "metadata": {},
   "outputs": [
    {
     "name": "stdout",
     "output_type": "stream",
     "text": [
      "I am staying in room number\n",
      "503\n"
     ]
    }
   ],
   "source": [
    "# This program demonstrates a variable.\n",
    "room = 503\n",
    "print ('I am staying in room number')\n",
    "print (room)"
   ]
  },
  {
   "cell_type": "markdown",
   "metadata": {},
   "source": [
    "Look at the following assignment statements:"
   ]
  },
  {
   "cell_type": "code",
   "execution_count": 9,
   "metadata": {},
   "outputs": [],
   "source": [
    "value1 = 99 \n",
    "value2 =  2.16 \n",
    "value3 = 45.9 \n",
    "value4 = 7.0 \n",
    "value5 = 'abc '"
   ]
  },
  {
   "cell_type": "markdown",
   "metadata": {},
   "source": [
    "After these statements execute, what is the Python data type of the values referenced by each variable? "
   ]
  },
  {
   "cell_type": "markdown",
   "metadata": {},
   "source": [
    "What will be displayed by the following program?"
   ]
  },
  {
   "cell_type": "code",
   "execution_count": 11,
   "metadata": {},
   "outputs": [
    {
     "name": "stdout",
     "output_type": "stream",
     "text": [
      "0\n"
     ]
    }
   ],
   "source": [
    "myvalue = 9 \n",
    "myvalue = 0\n",
    "print (myvalue)"
   ]
  },
  {
   "cell_type": "markdown",
   "metadata": {},
   "source": [
    "# Variables naming rules"
   ]
  },
  {
   "cell_type": "markdown",
   "metadata": {},
   "source": [
    "1. A variable name cannot contain spaces.\n",
    "2. The first character must be one of the letters a through z, A through Z, or an underscore character (_).\n",
    "3. After the first character you may use the letters a through z or A through 2, the digits O through 9, or underscores.\n",
    "4. Uppercase and lowercase characters are distinct."
   ]
  },
  {
   "cell_type": "markdown",
   "metadata": {},
   "source": [
    "# Variables Reassignment"
   ]
  },
  {
   "cell_type": "code",
   "execution_count": 13,
   "metadata": {},
   "outputs": [
    {
     "name": "stdout",
     "output_type": "stream",
     "text": [
      "I have  2.75  in my account. \n",
      "But now I have  99.95  in my account! \n"
     ]
    }
   ],
   "source": [
    "# This program demonstrates variable reassignment.\n",
    "# Assign a value to the dollars variable.\n",
    "dollars = 2.75\n",
    "print ('I have ' , dollars, ' in my account. ')\n",
    "# Reassign dollars so it references\n",
    "# a different value.\n",
    "dollars = 99.95\n",
    "print ('But now I have ' , dollars, ' in my account! ')"
   ]
  },
  {
   "cell_type": "markdown",
   "metadata": {},
   "source": [
    "# Storing Strings with the str Data Type"
   ]
  },
  {
   "cell_type": "markdown",
   "metadata": {},
   "source": [
    "In addition to the int and float data types, Python also has a data type named str, which is used for storing strings in memory. The following code shows how strings can be assigned to variables."
   ]
  },
  {
   "cell_type": "code",
   "execution_count": 15,
   "metadata": {},
   "outputs": [
    {
     "name": "stdout",
     "output_type": "stream",
     "text": [
      "Kathryn Marino\n"
     ]
    }
   ],
   "source": [
    "# Create variables to reference two strings.\n",
    "first_name = 'Kathryn'\n",
    "last_name = 'Marino'\n",
    "# Display the values referenced by the variables.\n",
    "print (first_name, last_name)"
   ]
  },
  {
   "cell_type": "markdown",
   "metadata": {},
   "source": [
    "# Reading Input from Keyboard"
   ]
  },
  {
   "cell_type": "markdown",
   "metadata": {},
   "source": [
    "# Reading numbers with the input function"
   ]
  },
  {
   "cell_type": "markdown",
   "metadata": {},
   "source": [
    "variable = input(prompt)"
   ]
  },
  {
   "cell_type": "code",
   "execution_count": 16,
   "metadata": {},
   "outputs": [
    {
     "name": "stdout",
     "output_type": "stream",
     "text": [
      " How many hours did you work? 12\n"
     ]
    }
   ],
   "source": [
    "hours = input ( ' How many hours did you work? ' )"
   ]
  },
  {
   "cell_type": "markdown",
   "metadata": {},
   "source": [
    "# This program gets input from the user. "
   ]
  },
  {
   "cell_type": "code",
   "execution_count": 18,
   "metadata": {},
   "outputs": [
    {
     "name": "stdout",
     "output_type": "stream",
     "text": [
      "How old are you? 12\n",
      "You said that you are 12 years old.\n"
     ]
    }
   ],
   "source": [
    "# This program gets input from the user. \n",
    "age = input ( 'How old are you? ' ) \n",
    "print ('You said that you are', age, 'years old.')"
   ]
  },
  {
   "cell_type": "markdown",
   "metadata": {},
   "source": [
    "# Reading strings with the raw_input function"
   ]
  },
  {
   "cell_type": "markdown",
   "metadata": {},
   "source": [
    "The raw_input function works like the input function, with one exception: the raw_input function retrieves all keyboard input as a string. There is no need for the user to type quote marks around the data that is entered."
   ]
  },
  {
   "cell_type": "markdown",
   "metadata": {},
   "source": [
    "# This program gets input from the user."
   ]
  },
  {
   "cell_type": "code",
   "execution_count": 21,
   "metadata": {},
   "outputs": [
    {
     "name": "stdout",
     "output_type": "stream",
     "text": [
      "Enter your first name: Ayyash\n",
      "Enter your last name: Mohammad\n",
      "Hello Ayyash Mohammad\n"
     ]
    }
   ],
   "source": [
    "# Get the user's first name. \n",
    "first_name = input( 'Enter your first name: ')\n",
    "# Get the user's last name. \n",
    "last_name = input( 'Enter your last name: ')\n",
    "# Print a greeting to the user. \n",
    "print ('Hello', first_name, last_name)"
   ]
  },
  {
   "cell_type": "markdown",
   "metadata": {},
   "source": [
    "1. Write a statement that prompts the user to enter this data and assigns the input to a variable.\n",
    "2. Write a statement that prompts the user to enter this data and assigns the input to a variable."
   ]
  },
  {
   "cell_type": "markdown",
   "metadata": {},
   "source": [
    "# Performing Calculations"
   ]
  },
  {
   "cell_type": "markdown",
   "metadata": {},
   "source": [
    "Python has numerous operators that can be used to perform mathematical calculations."
   ]
  },
  {
   "cell_type": "markdown",
   "metadata": {},
   "source": [
    "# Integer Division"
   ]
  },
  {
   "cell_type": "code",
   "execution_count": 22,
   "metadata": {},
   "outputs": [
    {
     "name": "stdout",
     "output_type": "stream",
     "text": [
      "1.5\n"
     ]
    }
   ],
   "source": [
    "number = 3 / 2\n",
    "print (number)"
   ]
  },
  {
   "cell_type": "code",
   "execution_count": 23,
   "metadata": {},
   "outputs": [
    {
     "name": "stdout",
     "output_type": "stream",
     "text": [
      "1.5\n"
     ]
    }
   ],
   "source": [
    "number = 3.0 / 2.0\n",
    "print (number)"
   ]
  },
  {
   "cell_type": "markdown",
   "metadata": {},
   "source": [
    "# Operator Precedence"
   ]
  },
  {
   "cell_type": "markdown",
   "metadata": {},
   "source": [
    "First, operations that are enclosed in parentheses are performed first. Then, when two operators share an operand, the operator with the higher precedence is applied first. The precedence of the math operators, from highest to lowest, are:\n",
    "1. Exponentiation: **\n",
    "2. Multiplication, division, and remainder: * / %\n",
    "3. Addition and subtraction: + -"
   ]
  },
  {
   "cell_type": "markdown",
   "metadata": {},
   "source": [
    "# Data Type Conversion"
   ]
  },
  {
   "cell_type": "markdown",
   "metadata": {},
   "source": [
    "When you perform a math operation on two operands, the data type of the result will depend on the data type of the operands. Python follows these rules when evaluating mathematical expressions:\n",
    "1. When an operation is performed on two int values, the result will be an int.\n",
    "2. When an operation is performed on two float values, the result will be a float.\n",
    "\n",
    "When an operation is performed on an i n t and a float , the int value will be temporarily converted to a float and the result of the operation will be a float. (An expression that uses an int and a float is called a mixed-type expression.)"
   ]
  },
  {
   "cell_type": "code",
   "execution_count": 30,
   "metadata": {},
   "outputs": [
    {
     "name": "stdout",
     "output_type": "stream",
     "text": [
      "How many books do you want to read? 12\n",
      "How many months will it take? 2\n",
      "You will read 6.0 books per month.\n"
     ]
    }
   ],
   "source": [
    "# Get the number of books the user plans to read.\n",
    "books = input('How many books do you want to read? ' )\n",
    "# Get the number of months it will take to read them.\n",
    "months = input('How many months will it take? ' )\n",
    "# Calculate the number of books per month.\n",
    "per_month = float(books)/float(months)\n",
    "# Display the result.\n",
    "print ('You will read', per_month, 'books per month.')"
   ]
  },
  {
   "cell_type": "code",
   "execution_count": 33,
   "metadata": {},
   "outputs": [
    {
     "name": "stdout",
     "output_type": "stream",
     "text": [
      "How many books do you want to read? 12\n",
      "How many months will it take? 1\n",
      "You will read 12.0 books per month. \n"
     ]
    }
   ],
   "source": [
    "# Get the number of books the user plans to read.\n",
    "books = input( 'How many books do you want to read? ' )\n",
    "# Get the number of months it will take to read them.\n",
    "months = input('How many months will it take? ' )\n",
    "# Calculate the number of books per month.\n",
    "per_month = float(books) / float(months)\n",
    "# Display the result.\n",
    "print ('You will read' , per_month, 'books per month. ')"
   ]
  },
  {
   "cell_type": "markdown",
   "metadata": {},
   "source": [
    "Python also has a built-in int( ) function that converts a value to an int . When a float is converted to an int , any fractional part is thrown away, or truncated. Here is an example:"
   ]
  },
  {
   "cell_type": "code",
   "execution_count": 34,
   "metadata": {},
   "outputs": [
    {
     "name": "stdout",
     "output_type": "stream",
     "text": [
      "-12\n"
     ]
    }
   ],
   "source": [
    "x=-12.9\n",
    "y=int(x)\n",
    "print (y)"
   ]
  },
  {
   "cell_type": "markdown",
   "metadata": {},
   "source": [
    "# Breaking Statement"
   ]
  },
  {
   "cell_type": "markdown",
   "metadata": {},
   "source": [
    "Python allows you to break a statement into multiple lines by using the line continuation character, which is a backslash (\\\\)."
   ]
  },
  {
   "cell_type": "code",
   "execution_count": 35,
   "metadata": {},
   "outputs": [
    {
     "name": "stdout",
     "output_type": "stream",
     "text": [
      "We sold 5 for a total of 2500\n"
     ]
    }
   ],
   "source": [
    "units_sold=5\n",
    "sales_amount=units_sold*500\n",
    "print ('We sold', units_sold, \\\n",
    "'for a total of', sales_amount)"
   ]
  },
  {
   "cell_type": "markdown",
   "metadata": {},
   "source": [
    "# Suppressing the print Statement\" Newline"
   ]
  },
  {
   "cell_type": "code",
   "execution_count": 37,
   "metadata": {},
   "outputs": [
    {
     "name": "stdout",
     "output_type": "stream",
     "text": [
      " One \n",
      " Two \n",
      " Three \n",
      "One\n",
      "Two\n",
      "Three\n"
     ]
    }
   ],
   "source": [
    "print (' One ' )\n",
    "print (' Two ' )\n",
    "print (' Three ')\n",
    "print ('One\\nTwo\\nThree')"
   ]
  },
  {
   "cell_type": "markdown",
   "metadata": {},
   "source": [
    "1. \\ n Causes output to be advanced to the next line. \n",
    "2. \\t Causes output to skip over to the next horizontal tab position. \n",
    "3. \\ ' Causes a single quote mark to be printed. \n",
    "4. \\ '' Causes a double quote mark to be printed. \n",
    "5. \\\\ Causes a backslash character to be printed."
   ]
  },
  {
   "cell_type": "markdown",
   "metadata": {},
   "source": [
    "# Displaying Multiple items with the + Operator"
   ]
  },
  {
   "cell_type": "code",
   "execution_count": 38,
   "metadata": {},
   "outputs": [
    {
     "name": "stdout",
     "output_type": "stream",
     "text": [
      "This is one string. \n"
     ]
    }
   ],
   "source": [
    "print ('This is ' + 'one string. ')"
   ]
  },
  {
   "cell_type": "code",
   "execution_count": 39,
   "metadata": {},
   "outputs": [
    {
     "name": "stdout",
     "output_type": "stream",
     "text": [
      "Enter the amount of sales for each day and press Enter. \n"
     ]
    }
   ],
   "source": [
    "print ('Enter the amount of ' + \\\n",
    "'sales for each day and ' + \\\n",
    "'press Enter. ')"
   ]
  },
  {
   "cell_type": "markdown",
   "metadata": {},
   "source": [
    "# Formatting Numbers"
   ]
  },
  {
   "cell_type": "markdown",
   "metadata": {},
   "source": [
    "You previously learned that the % symbol is the' remainder operator. That's true when both of \n",
    "its operands are numbers. When the operand on the left side of the % symbol is a string, how- \n",
    "ever, it becomes the string format operator.\n",
    "\n",
    "print string % number"
   ]
  },
  {
   "cell_type": "code",
   "execution_count": 41,
   "metadata": {},
   "outputs": [
    {
     "name": "stdout",
     "output_type": "stream",
     "text": [
      "The monthly payment is 416.6666666666667\n"
     ]
    }
   ],
   "source": [
    "# This program demonstrates how a floating-polnt\n",
    "# number is displayed with no formatting.\n",
    "amount_due = 5000.0\n",
    "monthly_payment = amount_due / 12.0\n",
    "print ('The monthly payment is', monthly_payment)"
   ]
  },
  {
   "cell_type": "code",
   "execution_count": 42,
   "metadata": {},
   "outputs": [
    {
     "name": "stdout",
     "output_type": "stream",
     "text": [
      "The monthly payment is 416.67\n",
      "The value is :   1.12 \n"
     ]
    }
   ],
   "source": [
    "# This program demonstrates how a floating-point \n",
    "# number can be formatted. \n",
    "amount_due = 5000.0 \n",
    "monthly_payment = amount_due / 12.0 \n",
    "print ('The monthly payment is %.2f' % monthly_payment)\n",
    "my_value = 1.123456789 \n",
    "print ('The value is : %6.2f ' % my_value)"
   ]
  },
  {
   "cell_type": "markdown",
   "metadata": {},
   "source": [
    "# Formatting Multiple Values"
   ]
  },
  {
   "cell_type": "code",
   "execution_count": 44,
   "metadata": {},
   "outputs": [
    {
     "name": "stdout",
     "output_type": "stream",
     "text": [
      "The values are 6.8 and  1.234568\n"
     ]
    }
   ],
   "source": [
    "valuel = 6.7891234\n",
    "value2 = 1.2345678\n",
    "print ('The values are %.1f and % 3f'% (valuel, value2))"
   ]
  },
  {
   "cell_type": "markdown",
   "metadata": {},
   "source": [
    "# Specifying a Minimum Field Width"
   ]
  },
  {
   "cell_type": "code",
   "execution_count": 45,
   "metadata": {},
   "outputs": [
    {
     "name": "stdout",
     "output_type": "stream",
     "text": [
      "The value is :   1.12 \n"
     ]
    }
   ],
   "source": [
    "my_value = 1.123456789\n",
    "print ('The value is : % 6.2f '% my_value)"
   ]
  },
  {
   "cell_type": "code",
   "execution_count": null,
   "metadata": {},
   "outputs": [],
   "source": []
  }
 ],
 "metadata": {
  "kernelspec": {
   "display_name": "Python 3",
   "language": "python",
   "name": "python3"
  },
  "language_info": {
   "codemirror_mode": {
    "name": "ipython",
    "version": 3
   },
   "file_extension": ".py",
   "mimetype": "text/x-python",
   "name": "python",
   "nbconvert_exporter": "python",
   "pygments_lexer": "ipython3",
   "version": "3.8.5"
  }
 },
 "nbformat": 4,
 "nbformat_minor": 2
}
