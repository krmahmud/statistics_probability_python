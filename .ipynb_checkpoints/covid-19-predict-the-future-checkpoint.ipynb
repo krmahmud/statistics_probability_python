{
 "cells": [
  {
   "cell_type": "markdown",
   "metadata": {},
   "source": [
    "<center><img src=\"https://img.pravda.com/images/doc/1/c/1cb93ce-36bfa52-vaccine690.jpg\" width=700></img></center> "
   ]
  },
  {
   "cell_type": "markdown",
   "metadata": {},
   "source": [
    "# <center><b>Hello guys!"
   ]
  },
  {
   "cell_type": "markdown",
   "metadata": {},
   "source": [
    "### <center>In this notebook you will see the process of dealing with missing data and filling it with appropriate values."
   ]
  },
  {
   "cell_type": "markdown",
   "metadata": {},
   "source": [
    "### <center>You can also find exploratory data analysis along with vizualization on histograms and geo plots here."
   ]
  },
  {
   "cell_type": "markdown",
   "metadata": {},
   "source": [
    "### <center>Moreover, at the end of the notebook you can find predictive ARIMA model parameters choosing and making<br><br><br>predictions of the amount of vaccinated people for the next 7 days!"
   ]
  },
  {
   "cell_type": "markdown",
   "metadata": {},
   "source": [
    "### <center>I hope, this notebook would be interesting and useful for you!"
   ]
  },
  {
   "cell_type": "markdown",
   "metadata": {},
   "source": [
    "# <b><br><center>Prepairing data"
   ]
  },
  {
   "cell_type": "markdown",
   "metadata": {},
   "source": [
    "Importing all needed libraries.<br><br>"
   ]
  },
  {
   "cell_type": "code",
   "execution_count": 30,
   "metadata": {},
   "outputs": [],
   "source": [
    "import numpy as np, pandas as pd\n",
    "from IPython.display import Image\n",
    "import matplotlib\n",
    "import matplotlib.pyplot as plt, seaborn as sns\n",
    "import scipy\n",
    "import warnings\n",
    "import plotly.express as px\n",
    "from itertools import product\n",
    "import statsmodels\n",
    "import statsmodels.api as sm\n",
    "import datetime\n",
    "from tqdm import tqdm\n",
    "warnings.filterwarnings('ignore')"
   ]
  },
  {
   "cell_type": "code",
   "execution_count": 18,
   "metadata": {},
   "outputs": [
    {
     "data": {
      "text/plain": [
       "'1.19.2'"
      ]
     },
     "execution_count": 18,
     "metadata": {},
     "output_type": "execute_result"
    }
   ],
   "source": [
    "np.__version__"
   ]
  },
  {
   "cell_type": "code",
   "execution_count": 19,
   "metadata": {},
   "outputs": [
    {
     "data": {
      "text/plain": [
       "'1.1.3'"
      ]
     },
     "execution_count": 19,
     "metadata": {},
     "output_type": "execute_result"
    }
   ],
   "source": [
    "pd.__version__"
   ]
  },
  {
   "cell_type": "code",
   "execution_count": 20,
   "metadata": {},
   "outputs": [
    {
     "data": {
      "text/plain": [
       "'1.5.2'"
      ]
     },
     "execution_count": 20,
     "metadata": {},
     "output_type": "execute_result"
    }
   ],
   "source": [
    "scipy.__version__"
   ]
  },
  {
   "cell_type": "code",
   "execution_count": 26,
   "metadata": {},
   "outputs": [
    {
     "data": {
      "text/plain": [
       "'3.3.2'"
      ]
     },
     "execution_count": 26,
     "metadata": {},
     "output_type": "execute_result"
    }
   ],
   "source": [
    "matplotlib.__version__"
   ]
  },
  {
   "cell_type": "code",
   "execution_count": 31,
   "metadata": {},
   "outputs": [
    {
     "data": {
      "text/plain": [
       "'0.12.0'"
      ]
     },
     "execution_count": 31,
     "metadata": {},
     "output_type": "execute_result"
    }
   ],
   "source": [
    "statsmodels.__version__"
   ]
  },
  {
   "cell_type": "code",
   "execution_count": 32,
   "metadata": {},
   "outputs": [
    {
     "data": {
      "text/plain": [
       "'0.11.0'"
      ]
     },
     "execution_count": 32,
     "metadata": {},
     "output_type": "execute_result"
    }
   ],
   "source": [
    "sns.__version__"
   ]
  },
  {
   "cell_type": "code",
   "execution_count": null,
   "metadata": {},
   "outputs": [],
   "source": []
  },
  {
   "cell_type": "code",
   "execution_count": null,
   "metadata": {},
   "outputs": [],
   "source": []
  },
  {
   "cell_type": "code",
   "execution_count": null,
   "metadata": {},
   "outputs": [],
   "source": []
  },
  {
   "cell_type": "markdown",
   "metadata": {},
   "source": [
    "<br>Loading data.<br><br>"
   ]
  },
  {
   "cell_type": "code",
   "execution_count": 6,
   "metadata": {},
   "outputs": [],
   "source": [
    "data = pd.read_csv('data/country_vaccinations.csv')"
   ]
  },
  {
   "cell_type": "markdown",
   "metadata": {},
   "source": [
    "<br>Check if everything loaded fine.<br><br>"
   ]
  },
  {
   "cell_type": "code",
   "execution_count": 7,
   "metadata": {},
   "outputs": [
    {
     "data": {
      "text/html": [
       "<div>\n",
       "<style scoped>\n",
       "    .dataframe tbody tr th:only-of-type {\n",
       "        vertical-align: middle;\n",
       "    }\n",
       "\n",
       "    .dataframe tbody tr th {\n",
       "        vertical-align: top;\n",
       "    }\n",
       "\n",
       "    .dataframe thead th {\n",
       "        text-align: right;\n",
       "    }\n",
       "</style>\n",
       "<table border=\"1\" class=\"dataframe\">\n",
       "  <thead>\n",
       "    <tr style=\"text-align: right;\">\n",
       "      <th></th>\n",
       "      <th>country</th>\n",
       "      <th>iso_code</th>\n",
       "      <th>date</th>\n",
       "      <th>total_vaccinations</th>\n",
       "      <th>people_vaccinated</th>\n",
       "      <th>people_fully_vaccinated</th>\n",
       "      <th>daily_vaccinations_raw</th>\n",
       "      <th>daily_vaccinations</th>\n",
       "      <th>total_vaccinations_per_hundred</th>\n",
       "      <th>people_vaccinated_per_hundred</th>\n",
       "      <th>people_fully_vaccinated_per_hundred</th>\n",
       "      <th>daily_vaccinations_per_million</th>\n",
       "      <th>vaccines</th>\n",
       "      <th>source_name</th>\n",
       "      <th>source_website</th>\n",
       "    </tr>\n",
       "  </thead>\n",
       "  <tbody>\n",
       "    <tr>\n",
       "      <th>0</th>\n",
       "      <td>Afghanistan</td>\n",
       "      <td>AFG</td>\n",
       "      <td>2021-02-22</td>\n",
       "      <td>0.0</td>\n",
       "      <td>0.0</td>\n",
       "      <td>NaN</td>\n",
       "      <td>NaN</td>\n",
       "      <td>NaN</td>\n",
       "      <td>0.00</td>\n",
       "      <td>0.00</td>\n",
       "      <td>NaN</td>\n",
       "      <td>NaN</td>\n",
       "      <td>Oxford/AstraZeneca</td>\n",
       "      <td>Government of Afghanistan</td>\n",
       "      <td>https://reliefweb.int/report/afghanistan/afgha...</td>\n",
       "    </tr>\n",
       "    <tr>\n",
       "      <th>1</th>\n",
       "      <td>Afghanistan</td>\n",
       "      <td>AFG</td>\n",
       "      <td>2021-02-23</td>\n",
       "      <td>NaN</td>\n",
       "      <td>NaN</td>\n",
       "      <td>NaN</td>\n",
       "      <td>NaN</td>\n",
       "      <td>1367.0</td>\n",
       "      <td>NaN</td>\n",
       "      <td>NaN</td>\n",
       "      <td>NaN</td>\n",
       "      <td>35.0</td>\n",
       "      <td>Oxford/AstraZeneca</td>\n",
       "      <td>Government of Afghanistan</td>\n",
       "      <td>https://reliefweb.int/report/afghanistan/afgha...</td>\n",
       "    </tr>\n",
       "    <tr>\n",
       "      <th>2</th>\n",
       "      <td>Afghanistan</td>\n",
       "      <td>AFG</td>\n",
       "      <td>2021-02-24</td>\n",
       "      <td>NaN</td>\n",
       "      <td>NaN</td>\n",
       "      <td>NaN</td>\n",
       "      <td>NaN</td>\n",
       "      <td>1367.0</td>\n",
       "      <td>NaN</td>\n",
       "      <td>NaN</td>\n",
       "      <td>NaN</td>\n",
       "      <td>35.0</td>\n",
       "      <td>Oxford/AstraZeneca</td>\n",
       "      <td>Government of Afghanistan</td>\n",
       "      <td>https://reliefweb.int/report/afghanistan/afgha...</td>\n",
       "    </tr>\n",
       "    <tr>\n",
       "      <th>3</th>\n",
       "      <td>Afghanistan</td>\n",
       "      <td>AFG</td>\n",
       "      <td>2021-02-25</td>\n",
       "      <td>NaN</td>\n",
       "      <td>NaN</td>\n",
       "      <td>NaN</td>\n",
       "      <td>NaN</td>\n",
       "      <td>1367.0</td>\n",
       "      <td>NaN</td>\n",
       "      <td>NaN</td>\n",
       "      <td>NaN</td>\n",
       "      <td>35.0</td>\n",
       "      <td>Oxford/AstraZeneca</td>\n",
       "      <td>Government of Afghanistan</td>\n",
       "      <td>https://reliefweb.int/report/afghanistan/afgha...</td>\n",
       "    </tr>\n",
       "    <tr>\n",
       "      <th>4</th>\n",
       "      <td>Afghanistan</td>\n",
       "      <td>AFG</td>\n",
       "      <td>2021-02-26</td>\n",
       "      <td>NaN</td>\n",
       "      <td>NaN</td>\n",
       "      <td>NaN</td>\n",
       "      <td>NaN</td>\n",
       "      <td>1367.0</td>\n",
       "      <td>NaN</td>\n",
       "      <td>NaN</td>\n",
       "      <td>NaN</td>\n",
       "      <td>35.0</td>\n",
       "      <td>Oxford/AstraZeneca</td>\n",
       "      <td>Government of Afghanistan</td>\n",
       "      <td>https://reliefweb.int/report/afghanistan/afgha...</td>\n",
       "    </tr>\n",
       "    <tr>\n",
       "      <th>...</th>\n",
       "      <td>...</td>\n",
       "      <td>...</td>\n",
       "      <td>...</td>\n",
       "      <td>...</td>\n",
       "      <td>...</td>\n",
       "      <td>...</td>\n",
       "      <td>...</td>\n",
       "      <td>...</td>\n",
       "      <td>...</td>\n",
       "      <td>...</td>\n",
       "      <td>...</td>\n",
       "      <td>...</td>\n",
       "      <td>...</td>\n",
       "      <td>...</td>\n",
       "      <td>...</td>\n",
       "    </tr>\n",
       "    <tr>\n",
       "      <th>13595</th>\n",
       "      <td>Zimbabwe</td>\n",
       "      <td>ZWE</td>\n",
       "      <td>2021-04-19</td>\n",
       "      <td>316991.0</td>\n",
       "      <td>280568.0</td>\n",
       "      <td>36423.0</td>\n",
       "      <td>2545.0</td>\n",
       "      <td>11773.0</td>\n",
       "      <td>2.13</td>\n",
       "      <td>1.89</td>\n",
       "      <td>0.25</td>\n",
       "      <td>792.0</td>\n",
       "      <td>Sinopharm/Beijing</td>\n",
       "      <td>Ministry of Health</td>\n",
       "      <td>https://twitter.com/MoHCCZim/status/1385677011...</td>\n",
       "    </tr>\n",
       "    <tr>\n",
       "      <th>13596</th>\n",
       "      <td>Zimbabwe</td>\n",
       "      <td>ZWE</td>\n",
       "      <td>2021-04-20</td>\n",
       "      <td>325007.0</td>\n",
       "      <td>288229.0</td>\n",
       "      <td>36778.0</td>\n",
       "      <td>8016.0</td>\n",
       "      <td>10950.0</td>\n",
       "      <td>2.19</td>\n",
       "      <td>1.94</td>\n",
       "      <td>0.25</td>\n",
       "      <td>737.0</td>\n",
       "      <td>Sinopharm/Beijing</td>\n",
       "      <td>Ministry of Health</td>\n",
       "      <td>https://twitter.com/MoHCCZim/status/1385677011...</td>\n",
       "    </tr>\n",
       "    <tr>\n",
       "      <th>13597</th>\n",
       "      <td>Zimbabwe</td>\n",
       "      <td>ZWE</td>\n",
       "      <td>2021-04-21</td>\n",
       "      <td>332996.0</td>\n",
       "      <td>295631.0</td>\n",
       "      <td>37365.0</td>\n",
       "      <td>7989.0</td>\n",
       "      <td>10124.0</td>\n",
       "      <td>2.24</td>\n",
       "      <td>1.99</td>\n",
       "      <td>0.25</td>\n",
       "      <td>681.0</td>\n",
       "      <td>Sinopharm/Beijing</td>\n",
       "      <td>Ministry of Health</td>\n",
       "      <td>https://twitter.com/MoHCCZim/status/1385677011...</td>\n",
       "    </tr>\n",
       "    <tr>\n",
       "      <th>13598</th>\n",
       "      <td>Zimbabwe</td>\n",
       "      <td>ZWE</td>\n",
       "      <td>2021-04-22</td>\n",
       "      <td>351799.0</td>\n",
       "      <td>308071.0</td>\n",
       "      <td>43728.0</td>\n",
       "      <td>18803.0</td>\n",
       "      <td>9417.0</td>\n",
       "      <td>2.37</td>\n",
       "      <td>2.07</td>\n",
       "      <td>0.29</td>\n",
       "      <td>634.0</td>\n",
       "      <td>Sinopharm/Beijing</td>\n",
       "      <td>Ministry of Health</td>\n",
       "      <td>https://twitter.com/MoHCCZim/status/1385677011...</td>\n",
       "    </tr>\n",
       "    <tr>\n",
       "      <th>13599</th>\n",
       "      <td>Zimbabwe</td>\n",
       "      <td>ZWE</td>\n",
       "      <td>2021-04-23</td>\n",
       "      <td>365985.0</td>\n",
       "      <td>319732.0</td>\n",
       "      <td>46253.0</td>\n",
       "      <td>14186.0</td>\n",
       "      <td>8755.0</td>\n",
       "      <td>2.46</td>\n",
       "      <td>2.15</td>\n",
       "      <td>0.31</td>\n",
       "      <td>589.0</td>\n",
       "      <td>Sinopharm/Beijing</td>\n",
       "      <td>Ministry of Health</td>\n",
       "      <td>https://twitter.com/MoHCCZim/status/1385677011...</td>\n",
       "    </tr>\n",
       "  </tbody>\n",
       "</table>\n",
       "<p>13600 rows × 15 columns</p>\n",
       "</div>"
      ],
      "text/plain": [
       "           country iso_code        date  total_vaccinations  \\\n",
       "0      Afghanistan      AFG  2021-02-22                 0.0   \n",
       "1      Afghanistan      AFG  2021-02-23                 NaN   \n",
       "2      Afghanistan      AFG  2021-02-24                 NaN   \n",
       "3      Afghanistan      AFG  2021-02-25                 NaN   \n",
       "4      Afghanistan      AFG  2021-02-26                 NaN   \n",
       "...            ...      ...         ...                 ...   \n",
       "13595     Zimbabwe      ZWE  2021-04-19            316991.0   \n",
       "13596     Zimbabwe      ZWE  2021-04-20            325007.0   \n",
       "13597     Zimbabwe      ZWE  2021-04-21            332996.0   \n",
       "13598     Zimbabwe      ZWE  2021-04-22            351799.0   \n",
       "13599     Zimbabwe      ZWE  2021-04-23            365985.0   \n",
       "\n",
       "       people_vaccinated  people_fully_vaccinated  daily_vaccinations_raw  \\\n",
       "0                    0.0                      NaN                     NaN   \n",
       "1                    NaN                      NaN                     NaN   \n",
       "2                    NaN                      NaN                     NaN   \n",
       "3                    NaN                      NaN                     NaN   \n",
       "4                    NaN                      NaN                     NaN   \n",
       "...                  ...                      ...                     ...   \n",
       "13595           280568.0                  36423.0                  2545.0   \n",
       "13596           288229.0                  36778.0                  8016.0   \n",
       "13597           295631.0                  37365.0                  7989.0   \n",
       "13598           308071.0                  43728.0                 18803.0   \n",
       "13599           319732.0                  46253.0                 14186.0   \n",
       "\n",
       "       daily_vaccinations  total_vaccinations_per_hundred  \\\n",
       "0                     NaN                            0.00   \n",
       "1                  1367.0                             NaN   \n",
       "2                  1367.0                             NaN   \n",
       "3                  1367.0                             NaN   \n",
       "4                  1367.0                             NaN   \n",
       "...                   ...                             ...   \n",
       "13595             11773.0                            2.13   \n",
       "13596             10950.0                            2.19   \n",
       "13597             10124.0                            2.24   \n",
       "13598              9417.0                            2.37   \n",
       "13599              8755.0                            2.46   \n",
       "\n",
       "       people_vaccinated_per_hundred  people_fully_vaccinated_per_hundred  \\\n",
       "0                               0.00                                  NaN   \n",
       "1                                NaN                                  NaN   \n",
       "2                                NaN                                  NaN   \n",
       "3                                NaN                                  NaN   \n",
       "4                                NaN                                  NaN   \n",
       "...                              ...                                  ...   \n",
       "13595                           1.89                                 0.25   \n",
       "13596                           1.94                                 0.25   \n",
       "13597                           1.99                                 0.25   \n",
       "13598                           2.07                                 0.29   \n",
       "13599                           2.15                                 0.31   \n",
       "\n",
       "       daily_vaccinations_per_million            vaccines  \\\n",
       "0                                 NaN  Oxford/AstraZeneca   \n",
       "1                                35.0  Oxford/AstraZeneca   \n",
       "2                                35.0  Oxford/AstraZeneca   \n",
       "3                                35.0  Oxford/AstraZeneca   \n",
       "4                                35.0  Oxford/AstraZeneca   \n",
       "...                               ...                 ...   \n",
       "13595                           792.0   Sinopharm/Beijing   \n",
       "13596                           737.0   Sinopharm/Beijing   \n",
       "13597                           681.0   Sinopharm/Beijing   \n",
       "13598                           634.0   Sinopharm/Beijing   \n",
       "13599                           589.0   Sinopharm/Beijing   \n",
       "\n",
       "                     source_name  \\\n",
       "0      Government of Afghanistan   \n",
       "1      Government of Afghanistan   \n",
       "2      Government of Afghanistan   \n",
       "3      Government of Afghanistan   \n",
       "4      Government of Afghanistan   \n",
       "...                          ...   \n",
       "13595         Ministry of Health   \n",
       "13596         Ministry of Health   \n",
       "13597         Ministry of Health   \n",
       "13598         Ministry of Health   \n",
       "13599         Ministry of Health   \n",
       "\n",
       "                                          source_website  \n",
       "0      https://reliefweb.int/report/afghanistan/afgha...  \n",
       "1      https://reliefweb.int/report/afghanistan/afgha...  \n",
       "2      https://reliefweb.int/report/afghanistan/afgha...  \n",
       "3      https://reliefweb.int/report/afghanistan/afgha...  \n",
       "4      https://reliefweb.int/report/afghanistan/afgha...  \n",
       "...                                                  ...  \n",
       "13595  https://twitter.com/MoHCCZim/status/1385677011...  \n",
       "13596  https://twitter.com/MoHCCZim/status/1385677011...  \n",
       "13597  https://twitter.com/MoHCCZim/status/1385677011...  \n",
       "13598  https://twitter.com/MoHCCZim/status/1385677011...  \n",
       "13599  https://twitter.com/MoHCCZim/status/1385677011...  \n",
       "\n",
       "[13600 rows x 15 columns]"
      ]
     },
     "execution_count": 7,
     "metadata": {},
     "output_type": "execute_result"
    }
   ],
   "source": [
    "data"
   ]
  },
  {
   "cell_type": "code",
   "execution_count": 8,
   "metadata": {},
   "outputs": [
    {
     "data": {
      "text/plain": [
       "(13600, 15)"
      ]
     },
     "execution_count": 8,
     "metadata": {},
     "output_type": "execute_result"
    }
   ],
   "source": [
    "data.shape"
   ]
  },
  {
   "cell_type": "code",
   "execution_count": 9,
   "metadata": {
    "_kg_hide-input": true
   },
   "outputs": [],
   "source": [
    "\n",
    "data = data.drop(data[(data.date>'2021-02-07') | (data.date>'2021-02-06')].index)"
   ]
  },
  {
   "cell_type": "markdown",
   "metadata": {},
   "source": [
    "# <br><center><b>Missing data<br><br>"
   ]
  },
  {
   "cell_type": "markdown",
   "metadata": {},
   "source": [
    "Now, let's check out if we have any missing data in our dataset.<br><br>"
   ]
  },
  {
   "cell_type": "code",
   "execution_count": 10,
   "metadata": {},
   "outputs": [
    {
     "data": {
      "text/plain": [
       "country                                   0\n",
       "iso_code                                  0\n",
       "date                                      0\n",
       "total_vaccinations                     1053\n",
       "people_vaccinated                      1251\n",
       "people_fully_vaccinated                1940\n",
       "daily_vaccinations_raw                 1307\n",
       "daily_vaccinations                      107\n",
       "total_vaccinations_per_hundred         1053\n",
       "people_vaccinated_per_hundred          1251\n",
       "people_fully_vaccinated_per_hundred    1940\n",
       "daily_vaccinations_per_million          107\n",
       "vaccines                                  0\n",
       "source_name                               0\n",
       "source_website                            0\n",
       "dtype: int64"
      ]
     },
     "execution_count": 10,
     "metadata": {},
     "output_type": "execute_result"
    }
   ],
   "source": [
    "data.isna().sum()"
   ]
  },
  {
   "cell_type": "markdown",
   "metadata": {},
   "source": [
    "<br>As can be seen, there is quite much missing data.<br><br>"
   ]
  },
  {
   "cell_type": "markdown",
   "metadata": {},
   "source": [
    "Let's drop total_vaccinations missing data, as without this value any raw doesn't make much sense.<br><br>"
   ]
  },
  {
   "cell_type": "code",
   "execution_count": 11,
   "metadata": {},
   "outputs": [],
   "source": [
    "data = data.drop(data[data.total_vaccinations.isna()].index)"
   ]
  },
  {
   "cell_type": "code",
   "execution_count": 12,
   "metadata": {},
   "outputs": [
    {
     "data": {
      "text/plain": [
       "country                                  0\n",
       "iso_code                                 0\n",
       "date                                     0\n",
       "total_vaccinations                       0\n",
       "people_vaccinated                      236\n",
       "people_fully_vaccinated                888\n",
       "daily_vaccinations_raw                 254\n",
       "daily_vaccinations                      90\n",
       "total_vaccinations_per_hundred           0\n",
       "people_vaccinated_per_hundred          236\n",
       "people_fully_vaccinated_per_hundred    888\n",
       "daily_vaccinations_per_million          90\n",
       "vaccines                                 0\n",
       "source_name                              0\n",
       "source_website                           0\n",
       "dtype: int64"
      ]
     },
     "execution_count": 12,
     "metadata": {},
     "output_type": "execute_result"
    }
   ],
   "source": [
    "data.isna().sum()"
   ]
  },
  {
   "cell_type": "markdown",
   "metadata": {},
   "source": [
    "## <br>\t<b>&bull;</b> people_vaccinated<br>"
   ]
  },
  {
   "cell_type": "code",
   "execution_count": 13,
   "metadata": {},
   "outputs": [],
   "source": [
    "check_data = data.drop(data[data.people_vaccinated.isna()].index)"
   ]
  },
  {
   "cell_type": "code",
   "execution_count": null,
   "metadata": {},
   "outputs": [],
   "source": [
    "check_data.head()"
   ]
  },
  {
   "cell_type": "markdown",
   "metadata": {},
   "source": [
    "<br>As can bee seen from our data, the values of total_vaccinations column are mostly the same as people_vaccenated column's.<br><br>"
   ]
  },
  {
   "cell_type": "markdown",
   "metadata": {},
   "source": [
    "total_vaccinations_per_hundred's and people_vaccinated_per_hundred are also very similar.<br><br>"
   ]
  },
  {
   "cell_type": "markdown",
   "metadata": {},
   "source": [
    "Let's check the correlation to understand if it is so.<br><br>"
   ]
  },
  {
   "cell_type": "code",
   "execution_count": null,
   "metadata": {},
   "outputs": [],
   "source": [
    "plt.subplots(figsize=(8, 8))\n",
    "sns.heatmap(check_data.corr(), annot=True, square=True)\n",
    "plt.show()"
   ]
  },
  {
   "cell_type": "markdown",
   "metadata": {},
   "source": [
    "<br>As can bee seen from the heatmap, these features have almost ideal correlation."
   ]
  },
  {
   "cell_type": "markdown",
   "metadata": {},
   "source": [
    "## <br>\t<b>&bull; </b>people_vaccinated and people_vaccinated_per_hundred<br>"
   ]
  },
  {
   "cell_type": "markdown",
   "metadata": {},
   "source": [
    "people_vaccinated and people_vaccinated_per_hundred greatly correlates with total_vaccinations and total_vaccinations_per_hundred.<br><br>"
   ]
  },
  {
   "cell_type": "markdown",
   "metadata": {},
   "source": [
    "##### <b> Let's check the hypothesis that these columns distributions are the same. </b><br><br>"
   ]
  },
  {
   "cell_type": "markdown",
   "metadata": {},
   "source": [
    "##### <b> Now and then we will use Mann-Whithey U test for this goal. </b><br><br>"
   ]
  },
  {
   "cell_type": "code",
   "execution_count": null,
   "metadata": {},
   "outputs": [],
   "source": [
    "scipy.stats.mannwhitneyu(check_data.total_vaccinations, check_data.people_vaccinated, alternative='two-sided')"
   ]
  },
  {
   "cell_type": "markdown",
   "metadata": {},
   "source": [
    "<br><br>"
   ]
  },
  {
   "cell_type": "code",
   "execution_count": null,
   "metadata": {},
   "outputs": [],
   "source": [
    "scipy.stats.mannwhitneyu(check_data.total_vaccinations_per_hundred, check_data.people_vaccinated_per_hundred, alternative='two-sided')"
   ]
  },
  {
   "cell_type": "markdown",
   "metadata": {},
   "source": [
    "<br>p-value is much than 0.05, which means we can't reject our hyphotesis. <br><br>"
   ]
  },
  {
   "cell_type": "markdown",
   "metadata": {},
   "source": [
    "So, we will fill the missing values with the difference of these column's mean values.<br><br>"
   ]
  },
  {
   "cell_type": "code",
   "execution_count": null,
   "metadata": {},
   "outputs": [],
   "source": [
    "diff = check_data.total_vaccinations.mean() - check_data.people_vaccinated.mean()\n",
    "diff_per_hundred = check_data.total_vaccinations_per_hundred.mean() - check_data.people_vaccinated_per_hundred.mean()\n",
    "\n",
    "data.people_vaccinated = data.people_vaccinated.fillna(data.total_vaccinations - diff)\n",
    "data.people_vaccinated_per_hundred = data.people_vaccinated_per_hundred.fillna(data.total_vaccinations_per_hundred - diff_per_hundred)"
   ]
  },
  {
   "cell_type": "markdown",
   "metadata": {},
   "source": [
    "<br>Let's check if everything ok.<br><br>"
   ]
  },
  {
   "cell_type": "code",
   "execution_count": null,
   "metadata": {},
   "outputs": [],
   "source": [
    "data.isna().sum()"
   ]
  },
  {
   "cell_type": "markdown",
   "metadata": {},
   "source": [
    "<br>Everything went fine we can move on  <b>&#10003;"
   ]
  },
  {
   "cell_type": "markdown",
   "metadata": {},
   "source": [
    "# <br>\t<b>&bull; </b>daily_vaccinations and daily_vaccinations_per_million<br>"
   ]
  },
  {
   "cell_type": "markdown",
   "metadata": {},
   "source": [
    "daily_vaccinations and daily_vaccinations_per_million greatly correlates with people_vaccinated and people_vaccinated_per_hundred.<br><br>"
   ]
  },
  {
   "cell_type": "markdown",
   "metadata": {},
   "source": [
    "##### <b> Let's check the hypothesis that these columns distributions are the same. <br><br>"
   ]
  },
  {
   "cell_type": "code",
   "execution_count": null,
   "metadata": {},
   "outputs": [],
   "source": [
    "scipy.stats.mannwhitneyu(check_data.people_vaccinated, check_data.daily_vaccinations)"
   ]
  },
  {
   "cell_type": "markdown",
   "metadata": {},
   "source": [
    "<br>"
   ]
  },
  {
   "cell_type": "code",
   "execution_count": null,
   "metadata": {},
   "outputs": [],
   "source": [
    "scipy.stats.mannwhitneyu(check_data.people_vaccinated_per_hundred, check_data.daily_vaccinations_per_million)"
   ]
  },
  {
   "cell_type": "markdown",
   "metadata": {},
   "source": [
    "<br>p-values are much less than 0.05, which means we will reject our hypothesis.<br><br>"
   ]
  },
  {
   "cell_type": "markdown",
   "metadata": {},
   "source": [
    "<br>So, let's just fill missing values with zeros.<br><br>"
   ]
  },
  {
   "cell_type": "code",
   "execution_count": null,
   "metadata": {},
   "outputs": [],
   "source": [
    "data.daily_vaccinations = data.daily_vaccinations.fillna(0)\n",
    "data.daily_vaccinations_per_million = data.daily_vaccinations_per_million.fillna(0)"
   ]
  },
  {
   "cell_type": "markdown",
   "metadata": {},
   "source": [
    "<br>Let's check if everything ok.<br><br>"
   ]
  },
  {
   "cell_type": "code",
   "execution_count": null,
   "metadata": {},
   "outputs": [],
   "source": [
    "data.isna().sum()"
   ]
  },
  {
   "cell_type": "markdown",
   "metadata": {},
   "source": [
    "<br>Everything worked fine <b>&#10003;<b>"
   ]
  },
  {
   "cell_type": "markdown",
   "metadata": {},
   "source": [
    "# <br>\t<b>&bull; </b>people_fully_vaccinated and people_fully_vaccinated_per_hundred<br>"
   ]
  },
  {
   "cell_type": "markdown",
   "metadata": {},
   "source": [
    "people_fully_vaccinated and people_fully_vaccinated_per_hundred greatly correlates with total_vaccinations and total_vaccinations_per_hundred."
   ]
  },
  {
   "cell_type": "markdown",
   "metadata": {},
   "source": [
    "##### <b> <br>Let's check the hypothesis that these columns distributions are the same. </b><br><br>"
   ]
  },
  {
   "cell_type": "code",
   "execution_count": null,
   "metadata": {},
   "outputs": [],
   "source": [
    "scipy.stats.mannwhitneyu(check_data.people_fully_vaccinated, check_data.total_vaccinations)"
   ]
  },
  {
   "cell_type": "markdown",
   "metadata": {},
   "source": [
    "<br>"
   ]
  },
  {
   "cell_type": "code",
   "execution_count": null,
   "metadata": {},
   "outputs": [],
   "source": [
    "scipy.stats.mannwhitneyu(check_data.people_fully_vaccinated_per_hundred, check_data.total_vaccinations_per_hundred)"
   ]
  },
  {
   "cell_type": "markdown",
   "metadata": {},
   "source": [
    "<br>p-values are much less than 0.05, which means we will reject our hypothesis.<br><br>"
   ]
  },
  {
   "cell_type": "markdown",
   "metadata": {},
   "source": [
    "Let's fill missing values with 0.<br><br>"
   ]
  },
  {
   "cell_type": "code",
   "execution_count": null,
   "metadata": {},
   "outputs": [],
   "source": [
    "data.people_fully_vaccinated = data.people_fully_vaccinated.fillna(0)\n",
    "data.people_fully_vaccinated_per_hundred = data.people_fully_vaccinated_per_hundred.fillna(0)"
   ]
  },
  {
   "cell_type": "markdown",
   "metadata": {},
   "source": [
    "<br>Let's check if everything ok.<br><br>"
   ]
  },
  {
   "cell_type": "code",
   "execution_count": null,
   "metadata": {},
   "outputs": [],
   "source": [
    "data.isna().sum()"
   ]
  },
  {
   "cell_type": "markdown",
   "metadata": {},
   "source": [
    "<br>We can move on <b>&#10003;"
   ]
  },
  {
   "cell_type": "markdown",
   "metadata": {},
   "source": [
    "## <br>\t<b>&bull; </b>daily_vaccinations_raw<br>"
   ]
  },
  {
   "cell_type": "markdown",
   "metadata": {},
   "source": [
    "daily_vaccinations_raw greatly correlates with daily_vaccinations.<br><br>"
   ]
  },
  {
   "cell_type": "markdown",
   "metadata": {},
   "source": [
    "##### <b> Let's check the hypothesis that these columns distributions are the same. </b><br><br>"
   ]
  },
  {
   "cell_type": "code",
   "execution_count": null,
   "metadata": {},
   "outputs": [],
   "source": [
    "scipy.stats.mannwhitneyu(check_data.daily_vaccinations_raw, check_data.daily_vaccinations)"
   ]
  },
  {
   "cell_type": "markdown",
   "metadata": {},
   "source": [
    "<br>p-values are much less than 0.05, which means we will reject our hypothesis.<br><br>"
   ]
  },
  {
   "cell_type": "markdown",
   "metadata": {},
   "source": [
    "Let's fill missing values with 0.<br><br>"
   ]
  },
  {
   "cell_type": "code",
   "execution_count": null,
   "metadata": {},
   "outputs": [],
   "source": [
    "data.daily_vaccinations_raw = data.daily_vaccinations_raw.fillna(0)"
   ]
  },
  {
   "cell_type": "markdown",
   "metadata": {},
   "source": [
    "<br>Let's check if everything worked fine.<br><br>"
   ]
  },
  {
   "cell_type": "code",
   "execution_count": null,
   "metadata": {},
   "outputs": [],
   "source": [
    "data.isna().sum()"
   ]
  },
  {
   "cell_type": "markdown",
   "metadata": {},
   "source": [
    "<br>Everything worked fine <b>&#10003;"
   ]
  },
  {
   "cell_type": "code",
   "execution_count": null,
   "metadata": {},
   "outputs": [],
   "source": [
    "data.head()"
   ]
  },
  {
   "cell_type": "markdown",
   "metadata": {},
   "source": [
    "## <br>\t<b>&bull; </b> iso_code"
   ]
  },
  {
   "cell_type": "markdown",
   "metadata": {},
   "source": [
    "<br>Let's find out which countries have missing iso-code.<br><br>"
   ]
  },
  {
   "cell_type": "code",
   "execution_count": null,
   "metadata": {},
   "outputs": [],
   "source": [
    "data[data.iso_code.isna()].country.unique()\n",
    "#data.iso_code[1700]"
   ]
  },
  {
   "cell_type": "markdown",
   "metadata": {},
   "source": [
    "<br>Thats the iso-codes which are used for these countries : GB-ENG\tfor England, NC for Northern Cyprus, GB-NIR\tfor Northern Ireland, GB-SCT for Scotland, GB-WLS for Wales.<br><br>\n"
   ]
  },
  {
   "cell_type": "markdown",
   "metadata": {},
   "source": [
    "We will fill missing iso-codes with appropriate ones.<br><br>"
   ]
  },
  {
   "cell_type": "code",
   "execution_count": null,
   "metadata": {},
   "outputs": [],
   "source": [
    "data[data.country == 'England'] = data[data.country == 'England'].fillna('GB-ENG')\n",
    "data[data.country == 'Northern Ireland'] == data[data.country == 'Northern Ireland'].fillna('GB-NIR')\n",
    "data[data.country == 'Scotland'] = data[data.country == 'Scotland'].fillna('GB-SCT')\n",
    "data[data.country == 'Wales'] = data[data.country == 'Wales'].fillna('GB-WLS')\n",
    "data = data.fillna('NC')"
   ]
  },
  {
   "cell_type": "markdown",
   "metadata": {},
   "source": [
    "<br>Let's check if everything went fine.<br><br>"
   ]
  },
  {
   "cell_type": "code",
   "execution_count": null,
   "metadata": {},
   "outputs": [],
   "source": [
    "data.isna().sum()"
   ]
  },
  {
   "cell_type": "markdown",
   "metadata": {},
   "source": [
    "<br>We have finally dealt with missing data, which was quite long 😀"
   ]
  },
  {
   "cell_type": "markdown",
   "metadata": {},
   "source": [
    "# <center><br><b>EDA with vizualization"
   ]
  },
  {
   "cell_type": "markdown",
   "metadata": {},
   "source": [
    "## <br>\t<b>&bull;</b> Amount of vaccinated people<br>"
   ]
  },
  {
   "cell_type": "markdown",
   "metadata": {},
   "source": [
    "First of all, let's vizualize which countries do have the highest ammount of vaccinated citizens.<br><br>"
   ]
  },
  {
   "cell_type": "code",
   "execution_count": null,
   "metadata": {
    "_kg_hide-input": true
   },
   "outputs": [],
   "source": [
    "cols = ['country', 'total_vaccinations', 'iso_code', 'vaccines', 'total_vaccinations_per_hundred']\n",
    "vacc_amount = data[cols].groupby('country').max().sort_values('total_vaccinations', ascending=False)"
   ]
  },
  {
   "cell_type": "code",
   "execution_count": null,
   "metadata": {
    "_kg_hide-input": true
   },
   "outputs": [],
   "source": [
    "plt.figure(figsize=(16, 7))\n",
    "plt.bar(vacc_amount.index, vacc_amount.total_vaccinations)\n",
    "plt.xticks(rotation = 90)\n",
    "plt.ylabel('Amount of vaccinated citizens')\n",
    "plt.xlabel('Countries')\n",
    "plt.show()"
   ]
  },
  {
   "cell_type": "markdown",
   "metadata": {},
   "source": [
    "<b><br>As can be seen from the plot, China and USA vaccination amounts are much greater then other countrie's. But the leader in vaccination is USA.</b><br><br>"
   ]
  },
  {
   "cell_type": "markdown",
   "metadata": {},
   "source": [
    "\n",
    "Let's take a look at the same data, but on the map.<br><br>"
   ]
  },
  {
   "cell_type": "code",
   "execution_count": null,
   "metadata": {
    "_kg_hide-input": true
   },
   "outputs": [],
   "source": [
    "fig = px.choropleth(locations=vacc_amount.iso_code, color=vacc_amount.total_vaccinations, title='Amount of vaccinated citizens', \n",
    "                   color_continuous_scale='rainbow')\n",
    "fig.show('notebook')"
   ]
  },
  {
   "cell_type": "markdown",
   "metadata": {},
   "source": [
    "<b><br>As could be seen from this map, many European countries along with some Arabic counties Indonesia, Argentina and Ecuador have the lowest amount of vaccinated citizens.</b><br>"
   ]
  },
  {
   "cell_type": "markdown",
   "metadata": {},
   "source": [
    "<b><br>At the same time, United Kingdom (mostly England, the biggest part of UK) which is really close to Europe is top 3 vaccinations amount country.</b>"
   ]
  },
  {
   "cell_type": "markdown",
   "metadata": {},
   "source": [
    "\n",
    "\n",
    "## <br>\t<b>&bull;</b> Amount of vaccinated people per hundred<br>"
   ]
  },
  {
   "cell_type": "markdown",
   "metadata": {},
   "source": [
    "Let's find out which country has the highest level of vaccinated people per hundred.<br><br>"
   ]
  },
  {
   "cell_type": "markdown",
   "metadata": {},
   "source": [
    "This way we will understand, which country has its biggest part of population vaccinated.<br><br>"
   ]
  },
  {
   "cell_type": "code",
   "execution_count": null,
   "metadata": {
    "_kg_hide-input": true
   },
   "outputs": [],
   "source": [
    "vacc_amount = vacc_amount.sort_values('total_vaccinations_per_hundred', ascending=False)"
   ]
  },
  {
   "cell_type": "code",
   "execution_count": null,
   "metadata": {
    "_kg_hide-input": true
   },
   "outputs": [],
   "source": [
    "plt.figure(figsize=(14, 5))\n",
    "plt.bar(vacc_amount.index, vacc_amount.total_vaccinations_per_hundred)\n",
    "plt.xticks(rotation = 90)\n",
    "plt.ylabel('Amount of vaccinated people per hundred')\n",
    "plt.xlabel('Countries')\n",
    "plt.show()"
   ]
  },
  {
   "cell_type": "markdown",
   "metadata": {},
   "source": [
    "<br><b>Israel, UAE, Gibraltar have the highest level of vaccinated people per hundred.<br><br>"
   ]
  },
  {
   "cell_type": "markdown",
   "metadata": {},
   "source": [
    "<b>But we shouldn't forget, that the population of these countries isn't really high, so that might be the reason of such a high statistic indicators.<br><br>"
   ]
  },
  {
   "cell_type": "markdown",
   "metadata": {},
   "source": [
    "<b>United Kingdom (along with England, Northern Ireland, Scotland and Wales) also have really high results, as it's population is almost 7 times higher than UAE's and Israels, and what is really incredible, <u>2016</u> times higher than Gibraltar's! <br><br>"
   ]
  },
  {
   "cell_type": "markdown",
   "metadata": {},
   "source": [
    "Now, let's take a look at the same data on map.<br><br>"
   ]
  },
  {
   "cell_type": "code",
   "execution_count": null,
   "metadata": {
    "_kg_hide-input": true
   },
   "outputs": [],
   "source": [
    "fig = px.choropleth(locations=vacc_amount.iso_code, color=vacc_amount.total_vaccinations_per_hundred, title='Amount of vaccinated citizens per hundred', \n",
    "                   color_continuous_scale='rainbow')\n",
    "fig.show('notebook')"
   ]
  },
  {
   "cell_type": "markdown",
   "metadata": {},
   "source": [
    "<br><b>It could now be seen that USA's level of vaccinated per hundred is also high.<br><br>"
   ]
  },
  {
   "cell_type": "markdown",
   "metadata": {},
   "source": [
    "<b>And the lowest level have Russia, Mexico, Southern America and Asian countries."
   ]
  },
  {
   "cell_type": "markdown",
   "metadata": {},
   "source": [
    "## <br>\t<b>&bull;</b> The most popular vaccine <br>"
   ]
  },
  {
   "cell_type": "markdown",
   "metadata": {},
   "source": [
    "Now let's find out which vaccine is the most popular.<br><br>"
   ]
  },
  {
   "cell_type": "code",
   "execution_count": null,
   "metadata": {
    "_kg_hide-input": true
   },
   "outputs": [],
   "source": [
    "vacc_pop = vacc_amount.groupby('vaccines').sum().sort_values('total_vaccinations', ascending=False)"
   ]
  },
  {
   "cell_type": "code",
   "execution_count": null,
   "metadata": {
    "_kg_hide-input": true
   },
   "outputs": [],
   "source": [
    "plt.figure(figsize=(10, 5))\n",
    "plt.bar(vacc_pop.index, vacc_pop.total_vaccinations)\n",
    "plt.xticks(rotation = 90)\n",
    "plt.ylabel('Amount of vaccinated people')\n",
    "plt.xlabel('Vaccines')\n",
    "plt.show()"
   ]
  },
  {
   "cell_type": "markdown",
   "metadata": {},
   "source": [
    "<b><br>What is shown on the plot, is the fact that Pfizer/BioNTech vaccine seems to be the most popular and the most wide-spread one.<br><br>"
   ]
  },
  {
   "cell_type": "markdown",
   "metadata": {},
   "source": [
    "<b>And Covishield along with Covaxin are problaby least popular.<br><br>"
   ]
  },
  {
   "cell_type": "markdown",
   "metadata": {},
   "source": [
    "Let's also vizualize it on a map.<br><br>"
   ]
  },
  {
   "cell_type": "code",
   "execution_count": null,
   "metadata": {
    "_kg_hide-input": true
   },
   "outputs": [],
   "source": [
    "fig = px.choropleth(locations=vacc_amount.iso_code, color=vacc_amount.vaccines, title='Name of the vaccine', \n",
    "                   color_continuous_scale='rainbow')\n",
    "fig.show()"
   ]
  },
  {
   "cell_type": "markdown",
   "metadata": {},
   "source": [
    "<br><b>It could be easily seen that Pfizer/BioNTech is really the most popular and wide-spread vaccine. People mostly prefer it in Europe and Northern America. <br><br>"
   ]
  },
  {
   "cell_type": "markdown",
   "metadata": {},
   "source": [
    "<b>The Sputnik V vaccine is used by Russia, Argentina and Serbia.<br><br>"
   ]
  },
  {
   "cell_type": "markdown",
   "metadata": {},
   "source": [
    "<b>Only Asian countries prefer Covaxin, Covishield.<br><br>"
   ]
  },
  {
   "cell_type": "markdown",
   "metadata": {},
   "source": [
    "<b>Sinovac is being used in Turkey, Indonesia, Brazil and China.<br><br>"
   ]
  },
  {
   "cell_type": "markdown",
   "metadata": {},
   "source": [
    "<b>And finally, CNBG is only being used in China.<br><br>"
   ]
  },
  {
   "cell_type": "markdown",
   "metadata": {},
   "source": [
    "# <b><center>Vaccination amount prediction"
   ]
  },
  {
   "cell_type": "markdown",
   "metadata": {},
   "source": [
    "## <b>&bull;</b> How the vaccination process changed through the time"
   ]
  },
  {
   "cell_type": "code",
   "execution_count": null,
   "metadata": {
    "_kg_hide-input": true
   },
   "outputs": [],
   "source": [
    "t_cols = ['date', 'total_vaccinations']\n",
    "timeseries_cov = data[t_cols].groupby('date').sum()[4:-1]\n",
    "\n",
    "def invboxcox(y, l):\n",
    "    if l == 0:\n",
    "        return np.exp(y)\n",
    "    else:\n",
    "        return np.exp(np.log(l*y+1)/l)"
   ]
  },
  {
   "cell_type": "code",
   "execution_count": null,
   "metadata": {
    "_kg_hide-input": true
   },
   "outputs": [],
   "source": [
    "plt.figure(figsize=(20,7))\n",
    "timeseries_cov.total_vaccinations.plot()\n",
    "plt.xticks(rotation=45)\n",
    "plt.show()"
   ]
  },
  {
   "cell_type": "markdown",
   "metadata": {},
   "source": [
    "<br><b>What can bee seen, is that despite some days the amount of vaccinated people falls, the vaccination has strong long uptrend.<br><br>"
   ]
  },
  {
   "cell_type": "markdown",
   "metadata": {},
   "source": [
    "## <b>&bull;</b> Timeseries transformations to make it stationary <br>"
   ]
  },
  {
   "cell_type": "markdown",
   "metadata": {},
   "source": [
    "To be able to predict future values, our timeseries <u><b>must be stationary</b></u>.<br><br>"
   ]
  },
  {
   "cell_type": "markdown",
   "metadata": {},
   "source": [
    "Let's check if it is true with the help of Dickey-Fuller test.<br><br>"
   ]
  },
  {
   "cell_type": "markdown",
   "metadata": {},
   "source": [
    "<b>Our hypotethis is, that our timeseries isn't stationary.<br><br>"
   ]
  },
  {
   "cell_type": "code",
   "execution_count": null,
   "metadata": {},
   "outputs": [],
   "source": [
    "print('p-value : {}'.format(sm.tsa.stattools.adfuller(timeseries_cov)[1]))"
   ]
  },
  {
   "cell_type": "markdown",
   "metadata": {},
   "source": [
    "<br><br>Our p-value is extremely high and is higher than 0.05.<br><br>"
   ]
  },
  {
   "cell_type": "markdown",
   "metadata": {},
   "source": [
    "Let's use Box-Cox transformation.<br><br>"
   ]
  },
  {
   "cell_type": "code",
   "execution_count": null,
   "metadata": {},
   "outputs": [],
   "source": [
    "timeseries_cov['total_vaccinations_box'], l = scipy.stats.boxcox(timeseries_cov.total_vaccinations)"
   ]
  },
  {
   "cell_type": "code",
   "execution_count": null,
   "metadata": {},
   "outputs": [],
   "source": [
    "print('p-value : {}'.format(sm.tsa.stattools.adfuller(timeseries_cov.drop(columns=['total_vaccinations']))[1]))"
   ]
  },
  {
   "cell_type": "markdown",
   "metadata": {},
   "source": [
    "<br>Our p-value is still higher than 0.05.<br>"
   ]
  },
  {
   "cell_type": "code",
   "execution_count": null,
   "metadata": {},
   "outputs": [],
   "source": [
    "plt.figure(figsize=(20,7))\n",
    "timeseries_cov.total_vaccinations_box.plot()\n",
    "plt.xticks(rotation=45)\n",
    "plt.show()"
   ]
  },
  {
   "cell_type": "markdown",
   "metadata": {},
   "source": [
    "<br>We will seasonly differentiate our timeseries with the interval of 2 days.<br><br>"
   ]
  },
  {
   "cell_type": "code",
   "execution_count": null,
   "metadata": {},
   "outputs": [],
   "source": [
    "timeseries_cov['total_vaccinations_box_diff1int2'] = timeseries_cov.total_vaccinations_box - timeseries_cov.total_vaccinations_box.shift(2)"
   ]
  },
  {
   "cell_type": "code",
   "execution_count": null,
   "metadata": {},
   "outputs": [],
   "source": [
    "timeseries_cov['total_vaccinations_box_diff2int2'] = timeseries_cov['total_vaccinations_box_diff1int2'] - timeseries_cov['total_vaccinations_box_diff1int2'].shift(2)"
   ]
  },
  {
   "cell_type": "code",
   "execution_count": null,
   "metadata": {},
   "outputs": [],
   "source": [
    "print('p-value : {}'.format(sm.tsa.stattools.adfuller(timeseries_cov.drop(columns=['total_vaccinations', 'total_vaccinations_box', 'total_vaccinations_box_diff1int2'])[4:])[1]))"
   ]
  },
  {
   "cell_type": "markdown",
   "metadata": {},
   "source": [
    "<br>Now our p-value is much less than 0.05, which means we could consider our timeseries not to be unstationary. Let's check if it is true with decomposing.<br><br>"
   ]
  },
  {
   "cell_type": "code",
   "execution_count": null,
   "metadata": {},
   "outputs": [],
   "source": [
    "sm.tsa.seasonal_decompose(timeseries_cov.total_vaccinations_box_diff2int2[4:], period=1).plot()\n",
    "plt.show()"
   ]
  },
  {
   "cell_type": "markdown",
   "metadata": {},
   "source": [
    "<br>As we can see, trend disappeared because of our differentiation. Let's move on.<br><br>"
   ]
  },
  {
   "cell_type": "markdown",
   "metadata": {},
   "source": [
    "## <b>&bull;</b> ACF and PACF (Autocorrelation function and Partial autocorrelation function) <br>"
   ]
  },
  {
   "cell_type": "markdown",
   "metadata": {},
   "source": [
    "Now, lets check Autocorrelation and Partial Autocorrelation of our timeseries.<br><br>"
   ]
  },
  {
   "cell_type": "code",
   "execution_count": null,
   "metadata": {
    "_kg_hide-input": true
   },
   "outputs": [],
   "source": [
    "plt.figure(figsize=(20, 7))\n",
    "ax = plt.subplot(211)\n",
    "sm.graphics.tsa.plot_acf(timeseries_cov.drop(columns=['total_vaccinations', 'total_vaccinations_box', 'total_vaccinations_box_diff1int2'])[4:], \n",
    "                         lags=(len(timeseries_cov)-4)/4, ax=ax)\n",
    "ax = plt.subplot(212)\n",
    "sm.graphics.tsa.plot_pacf(timeseries_cov.drop(columns=['total_vaccinations', 'total_vaccinations_box', 'total_vaccinations_box_diff1int2'])[4:], \n",
    "                         lags=(len(timeseries_cov)-4)/4, ax=ax)\n",
    "plt.show()"
   ]
  },
  {
   "cell_type": "markdown",
   "metadata": {},
   "source": [
    "<br>We will choose our parameters in range of 0-7.<br><br>"
   ]
  },
  {
   "cell_type": "markdown",
   "metadata": {},
   "source": [
    "As we have done one seasonal and any simple differentiations, D (amount of seasonal diffs) will be 1 and d (amount of simple diffs) will be 0.<br>"
   ]
  },
  {
   "cell_type": "code",
   "execution_count": null,
   "metadata": {},
   "outputs": [],
   "source": [
    "d = 0\n",
    "D = 2"
   ]
  },
  {
   "cell_type": "markdown",
   "metadata": {},
   "source": [
    "<br>Now we will train many models and will choose the one with the best Akaike Information Criterion (AIC).<br><br>"
   ]
  },
  {
   "cell_type": "code",
   "execution_count": null,
   "metadata": {},
   "outputs": [],
   "source": [
    "%%time\n",
    "results = []\n",
    "best_aic = float('inf')\n",
    "\n",
    "parameters = list(product(np.arange(0, 7), np.arange(0, 7), np.arange(0, 7), np.arange(0, 7)))\n",
    "\n",
    "for param in tqdm(parameters):\n",
    "    try:\n",
    "        arima = sm.tsa.statespace.SARIMAX(timeseries_cov.total_vaccinations_box, order=(param[0], d, param[1]), \n",
    "                                          seasonal_order=(param[2], D, param[3], 2)).fit(disp=False)\n",
    "    except:\n",
    "        continue\n",
    "    aic = arima.aic\n",
    "    if aic < best_aic:\n",
    "        optimal_arima = arima\n",
    "        best_aic = aic\n",
    "        best_param = param\n",
    "    results.append([param, optimal_arima.aic])"
   ]
  },
  {
   "cell_type": "markdown",
   "metadata": {},
   "source": [
    "<br>Let's check the optimal model's info. <br><br>"
   ]
  },
  {
   "cell_type": "code",
   "execution_count": null,
   "metadata": {},
   "outputs": [],
   "source": [
    "print(optimal_arima.summary())"
   ]
  },
  {
   "cell_type": "markdown",
   "metadata": {},
   "source": [
    "<br>Now, let's compare our timeseries with ARIMA's.<br><br>"
   ]
  },
  {
   "cell_type": "code",
   "execution_count": null,
   "metadata": {
    "_kg_hide-input": true
   },
   "outputs": [],
   "source": [
    "timeseries_cov['arima'] = invboxcox(optimal_arima.fittedvalues, l)\n",
    "plt.figure(figsize=(20,7))\n",
    "timeseries_cov.total_vaccinations.plot()\n",
    "timeseries_cov.arima.plot(color='r')\n",
    "plt.xticks(rotation=45)\n",
    "plt.show()"
   ]
  },
  {
   "cell_type": "markdown",
   "metadata": {},
   "source": [
    "<br>Seems like ARIMA's timeseries is pretty close to ours. Anyway, you can improve it's accuracy with using much higher parameters, which will also take a lot of time.<br><br>"
   ]
  },
  {
   "cell_type": "markdown",
   "metadata": {},
   "source": [
    "## <b>&bull;</b> Making prediction"
   ]
  },
  {
   "cell_type": "markdown",
   "metadata": {},
   "source": [
    "<br>Now, let's create predictions for the next week.<br><br>"
   ]
  },
  {
   "cell_type": "code",
   "execution_count": null,
   "metadata": {},
   "outputs": [],
   "source": [
    "date = ['2021-02-'+str(x) for x in range(10, 17)]\n",
    "timeseries = timeseries_cov['total_vaccinations']\n",
    "pred_df = pd.DataFrame(index=date)\n",
    "pred_df['total_vaccinations'] = invboxcox(optimal_arima.predict(start=44, end=50).values, l)\n",
    "timeseries = pd.concat([timeseries, pred_df])"
   ]
  },
  {
   "cell_type": "code",
   "execution_count": null,
   "metadata": {},
   "outputs": [],
   "source": [
    "timeseries.drop(columns=[0])[-7:]"
   ]
  },
  {
   "cell_type": "markdown",
   "metadata": {},
   "source": [
    "<br>And at the end let's vizualize our predictions.<br><br>"
   ]
  },
  {
   "cell_type": "code",
   "execution_count": null,
   "metadata": {
    "_kg_hide-input": true
   },
   "outputs": [],
   "source": [
    "timeseries_cov['arima'] = invboxcox(optimal_arima.fittedvalues, l)\n",
    "plt.figure(figsize=(20,7))\n",
    "timeseries.total_vaccinations.plot(color='r')\n",
    "timeseries_cov.total_vaccinations.plot()\n",
    "plt.xticks(rotation=45)\n",
    "plt.show()"
   ]
  },
  {
   "cell_type": "markdown",
   "metadata": {},
   "source": [
    "# <center><br><b><br> Thank you for reading this notebook!"
   ]
  },
  {
   "cell_type": "markdown",
   "metadata": {},
   "source": [
    "# <center><b><br>Good luck!"
   ]
  }
 ],
 "metadata": {
  "kernelspec": {
   "display_name": "Python 3",
   "language": "python",
   "name": "python3"
  },
  "language_info": {
   "codemirror_mode": {
    "name": "ipython",
    "version": 3
   },
   "file_extension": ".py",
   "mimetype": "text/x-python",
   "name": "python",
   "nbconvert_exporter": "python",
   "pygments_lexer": "ipython3",
   "version": "3.8.5"
  }
 },
 "nbformat": 4,
 "nbformat_minor": 4
}
